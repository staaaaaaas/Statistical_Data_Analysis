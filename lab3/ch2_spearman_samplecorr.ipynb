{
 "cells": [
  {
   "cell_type": "markdown",
   "metadata": {},
   "source": [
    "*Арешин Станислав Олегович*\n",
    "\n",
    "**Лабораторная работа №3**\n",
    "\n",
    "**Проверка статистических гипотез для количественных признаков**"
   ]
  },
  {
   "cell_type": "markdown",
   "metadata": {},
   "source": [
    "# Реализация"
   ]
  },
  {
   "cell_type": "markdown",
   "metadata": {},
   "source": [
    "## Генерация выборок\n"
   ]
  },
  {
   "cell_type": "code",
   "execution_count": 1,
   "metadata": {},
   "outputs": [],
   "source": [
    "import numpy as np\n",
    "import matplotlib.pyplot as plt\n",
    "from scipy import stats"
   ]
  },
  {
   "cell_type": "code",
   "execution_count": 2,
   "metadata": {},
   "outputs": [],
   "source": [
    "def gen_gaussian_lin_mono(mu, sigma, n):\n",
    "    x = np.random.normal(mu, sigma, n)\n",
    "    z = np.random.normal(mu, sigma, n)\n",
    "    y = 0.6 * x + 0.4 * z\n",
    "    return x, y\n",
    "\n",
    "def gen_notgaussian_notlin_mono(mu, sigma, n):\n",
    "    x = np.random.normal(mu, sigma, n)\n",
    "    z = np.random.normal(mu*2, sigma*10, n)\n",
    "    y = np.exp(2*x) + z\n",
    "    return x, y\n",
    "\n",
    "def gen_notgaussian_notlin_notmono(mu, sigma, n):\n",
    "    x = np.random.normal(mu, sigma, n)\n",
    "    z = np.random.normal(mu*2, sigma*2, n)\n",
    "    y = 2 * x ** 2 + z ** 2\n",
    "    return x, y"
   ]
  },
  {
   "cell_type": "markdown",
   "metadata": {},
   "source": [
    "## Выборочный коэффициент корреляции\n",
    "\n",
    "Проверка зависимости двух нормально распределённых признаков"
   ]
  },
  {
   "cell_type": "code",
   "execution_count": 3,
   "metadata": {},
   "outputs": [],
   "source": [
    "def Sample_corr_test(x, y, alpha = 0.05):\n",
    "    # флаг, который указывает, принимаем H0 или отвергаем : 1-отвергаем, 0 - принимаем\n",
    "    complete = 0\n",
    "    # кол-во элементов в выборке\n",
    "    n = len(x)\n",
    "    # вычисялем выборочное среднее выборок\n",
    "    x_mean = x.mean()\n",
    "    y_mean = y.mean()\n",
    "    # вычисляем выборочный коэф корреляции\n",
    "    r = (1 / n * np.sum((x - x_mean) * (y - y_mean))) / \\\n",
    "    (1 / n * np.sum((x - x_mean) ** 2) * 1 / n * np.sum((y - y_mean) ** 2)) ** 0.5\n",
    "    # вычисляем статистику критерия t_value\n",
    "    t_value = n ** 0.5 * r\n",
    "    # вычисляем p-value\n",
    "    p_value = np.min(np.array([2 * stats.norm.cdf(t_value), 2 - 2 * stats.norm.cdf(t_value)]), axis=0)\n",
    "    # принимаем H0 или отвергаем\n",
    "    if (p_value > alpha / 2) and (p_value < (1 - alpha / 2)):\n",
    "        complete = 0\n",
    "    else:\n",
    "        complete = 1\n",
    "    return r, t_value, p_value, complete"
   ]
  },
  {
   "cell_type": "code",
   "execution_count": 4,
   "metadata": {},
   "outputs": [
    {
     "data": {
      "text/plain": [
       "(0.7827665818936483, 7.827665818936484, 4.884981308350689e-15, 1)"
      ]
     },
     "execution_count": 4,
     "metadata": {},
     "output_type": "execute_result"
    }
   ],
   "source": [
    "# реализованный\n",
    "\n",
    "x1, y1 = gen_gaussian_lin_mono(2, 10, 100)\n",
    "Sample_corr_test(x1, y1)"
   ]
  },
  {
   "cell_type": "code",
   "execution_count": 5,
   "metadata": {},
   "outputs": [
    {
     "data": {
      "text/plain": [
       "(0.7827665818936483, 6.636176372467055e-22)"
      ]
     },
     "execution_count": 5,
     "metadata": {},
     "output_type": "execute_result"
    }
   ],
   "source": [
    "# проверка scipy\n",
    "\n",
    "stats.pearsonr(x1, y1)"
   ]
  },
  {
   "cell_type": "code",
   "execution_count": 6,
   "metadata": {},
   "outputs": [
    {
     "data": {
      "text/plain": [
       "(0.2661429758685755, 2.661429758685755, 0.007780957370092656, 1)"
      ]
     },
     "execution_count": 6,
     "metadata": {},
     "output_type": "execute_result"
    }
   ],
   "source": [
    "# реализованный\n",
    "\n",
    "x2, y2 = gen_notgaussian_notlin_mono(2, 10, 100)\n",
    "Sample_corr_test(x2, y2)"
   ]
  },
  {
   "cell_type": "code",
   "execution_count": 7,
   "metadata": {},
   "outputs": [
    {
     "data": {
      "text/plain": [
       "(0.26614297586857544, 0.007441286427588205)"
      ]
     },
     "execution_count": 7,
     "metadata": {},
     "output_type": "execute_result"
    }
   ],
   "source": [
    "# проверка scipy\n",
    "\n",
    "stats.pearsonr(x2, y2)"
   ]
  },
  {
   "cell_type": "code",
   "execution_count": 8,
   "metadata": {},
   "outputs": [
    {
     "data": {
      "text/plain": [
       "(0.370143598972418, 3.70143598972418, 0.00021438274235618948, 1)"
      ]
     },
     "execution_count": 8,
     "metadata": {},
     "output_type": "execute_result"
    }
   ],
   "source": [
    "# реализованный\n",
    "\n",
    "x3, y3 = gen_notgaussian_notlin_notmono(2, 10, 100)\n",
    "Sample_corr_test(x3, y3)"
   ]
  },
  {
   "cell_type": "code",
   "execution_count": 9,
   "metadata": {},
   "outputs": [
    {
     "data": {
      "text/plain": [
       "(0.3701435989724181, 0.0001503746570864822)"
      ]
     },
     "execution_count": 9,
     "metadata": {},
     "output_type": "execute_result"
    }
   ],
   "source": [
    "# проверка scipy\n",
    "\n",
    "stats.pearsonr(x3, y3)"
   ]
  },
  {
   "cell_type": "markdown",
   "metadata": {},
   "source": [
    "## Критерий Спирмана\n",
    "\n",
    "Признаки ненормальны, подозревается монотонная зависимость"
   ]
  },
  {
   "cell_type": "code",
   "execution_count": 10,
   "metadata": {},
   "outputs": [],
   "source": [
    "def ranging(x):\n",
    "    # отсортированная выборка\n",
    "    x_sorted = np.sort(x)\n",
    "    # массив рангов\n",
    "    R = np.array([])\n",
    "    elems = np.array([])\n",
    "    x_rangs =  np.array([])\n",
    "    # номер итерации\n",
    "    i = 1\n",
    "    # вычисляем ранги\n",
    "    while i <= len(x):\n",
    "        # кол-во одинаковых элементов\n",
    "        x_count = (x_sorted == x_sorted[i-1]).sum()\n",
    "        # если элемент уникален\n",
    "        if x_count == 1:\n",
    "            # добавялем ранг\n",
    "            R = np.append(R, i)\n",
    "            # добавялем элемент\n",
    "            elems = np.append(elems, x_sorted[x_sorted == x_sorted[i-1]])\n",
    "        # если элемент неуникален\n",
    "        else:\n",
    "            # вычисляем и добавляем ранги\n",
    "            for j in range(x_count):\n",
    "                R = np.append(R, i + (c - 1) / 2)\n",
    "                elems = np.append(elems, x_sorted[x_sorted == x_sorted[i-1]][0])\n",
    "        i += x_count\n",
    "    for i in range(len(x)):\n",
    "        idx = np.where(elems == x[i])\n",
    "        x_rangs = np.append(x_rangs, R[idx[0]])\n",
    "    return x_rangs\n",
    "\n",
    "def Spearman_test(x, y, alpha = 0.05):\n",
    "    # флаг, который указывает, принимаем H0 или отвергаем : 1-отвергаем, 0 - принимаем\n",
    "    complete = 0\n",
    "    # кол-во элементов в выборке\n",
    "    n = len(x)\n",
    "    # вычисляем ранги выборок x и y\n",
    "    x_rangs = ranging(x)\n",
    "    y_rangs = ranging(y)\n",
    "    # вычисляем ранговый коэф корреляции спирмана\n",
    "    r_spearman = 1 - 6 / (n ** 3 - n) * np.sum((x_rangs - y_rangs) ** 2)\n",
    "    # вычисляем статистику критерия t_value\n",
    "    t_value = (n-1) ** 0.5 * r_spearman\n",
    "    # вычисляем p-value\n",
    "    p_value = np.min(np.array([2 * stats.norm.cdf(t_value), 2 - 2 * stats.norm.cdf(t_value)]), axis=0)\n",
    "    # принимаем H0 или отвергаем\n",
    "    if (p_value > alpha / 2) and (p_value < (1 - alpha / 2)):\n",
    "        complete = 0\n",
    "    else:\n",
    "        complete = 1\n",
    "    return r_spearman, t_value, p_value, complete"
   ]
  },
  {
   "cell_type": "code",
   "execution_count": 11,
   "metadata": {},
   "outputs": [
    {
     "data": {
      "text/plain": [
       "(0.7742814281428143, 7.704002937870723, 1.3100631690576847e-14, 1)"
      ]
     },
     "execution_count": 11,
     "metadata": {},
     "output_type": "execute_result"
    }
   ],
   "source": [
    "# реализованный \n",
    "    \n",
    "Spearman_test(x1, y1)"
   ]
  },
  {
   "cell_type": "code",
   "execution_count": 12,
   "metadata": {},
   "outputs": [
    {
     "data": {
      "text/plain": [
       "SpearmanrResult(correlation=0.7742814281428142, pvalue=3.4702856182425166e-21)"
      ]
     },
     "execution_count": 12,
     "metadata": {},
     "output_type": "execute_result"
    }
   ],
   "source": [
    "# проверка scipy\n",
    "\n",
    "stats.spearmanr(x1, y1)"
   ]
  },
  {
   "cell_type": "code",
   "execution_count": 13,
   "metadata": {},
   "outputs": [
    {
     "data": {
      "text/plain": [
       "(0.8454485448544855, 8.412106808502857, 0.0, 1)"
      ]
     },
     "execution_count": 13,
     "metadata": {},
     "output_type": "execute_result"
    }
   ],
   "source": [
    "# реализованный  \n",
    "    \n",
    "Spearman_test(x2, y2)"
   ]
  },
  {
   "cell_type": "code",
   "execution_count": 14,
   "metadata": {},
   "outputs": [
    {
     "data": {
      "text/plain": [
       "SpearmanrResult(correlation=0.8454485448544854, pvalue=1.905427836713662e-28)"
      ]
     },
     "execution_count": 14,
     "metadata": {},
     "output_type": "execute_result"
    }
   ],
   "source": [
    "# проверка scipy\n",
    "\n",
    "stats.spearmanr(x2, y2)"
   ]
  },
  {
   "cell_type": "code",
   "execution_count": 15,
   "metadata": {},
   "outputs": [
    {
     "data": {
      "text/plain": [
       "(0.26445844584458444, 2.6313283125210294, 0.008505182842968528, 1)"
      ]
     },
     "execution_count": 15,
     "metadata": {},
     "output_type": "execute_result"
    }
   ],
   "source": [
    "# реализованный \n",
    "\n",
    "Spearman_test(x3, y3)"
   ]
  },
  {
   "cell_type": "code",
   "execution_count": 16,
   "metadata": {},
   "outputs": [
    {
     "data": {
      "text/plain": [
       "SpearmanrResult(correlation=0.26445844584458444, pvalue=0.007840787782760853)"
      ]
     },
     "execution_count": 16,
     "metadata": {},
     "output_type": "execute_result"
    }
   ],
   "source": [
    "# проверка scipy\n",
    "\n",
    "stats.spearmanr(x3, y3)"
   ]
  },
  {
   "cell_type": "markdown",
   "metadata": {},
   "source": [
    "## Критерий Хи-квадрат Пирсона\n",
    "\n",
    "Признаки ненормальны, подозревается немонотонная нелинейная зависимость"
   ]
  },
  {
   "cell_type": "code",
   "execution_count": 17,
   "metadata": {},
   "outputs": [],
   "source": [
    "def to_nominal(x, k):\n",
    "    x_sort = np.sort(x)\n",
    "    x_in_scale = np.zeros(k)\n",
    "    slices = np.linspace(x_sort[0], x_sort[-1], k+1)\n",
    "    for i in range(k):\n",
    "        x_part = x[x >= slices[i]]\n",
    "        x_count = (x_part <= slices[i+1]).sum()\n",
    "        x_in_scale[i] = x_count\n",
    "    return x_in_scale\n",
    "\n",
    "def Pirson_test(x, y, coeffs = True, alpha = 0.05):\n",
    "    # флаг, который указывает, принимаем H0 или отвергаем : 1-отвергаем, 0 - принимаем\n",
    "    complete = 0\n",
    "    # кол-во элементов в выборке\n",
    "    n = len(x)\n",
    "    # переводим в номинальную шкалу\n",
    "    x_nom = to_nominal(x, 5)\n",
    "    y_nom = to_nominal(y, 5)\n",
    "    matrix = np.concatenate(([x_nom], [y_nom])) \n",
    "    chi2_value = 0\n",
    "    for i in range(2):\n",
    "        for j in range(len(x_nom)):\n",
    "            chi2_value += (matrix[i][j] - (np.sum(matrix[i]) * np.sum(matrix[:,j]) / np.sum(matrix))) ** 2 \\\n",
    "            / (np.sum(matrix[i]) * np.sum(matrix[:,j]) / np.sum(matrix))\n",
    "            \n",
    "    # вычисляем коэффициенты\n",
    "    if coeffs == True:\n",
    "        pirson_coeff = (chi2_value / (np.sum(matrix) + chi2_value)) ** 0.5\n",
    "        kramer_coeff = (chi2_value / (np.sum(matrix) * np.min([(len(x_nom) - 1), 1]))) ** 0.5\n",
    "        chuprov_coeff =  (chi2_value / (np.sum(matrix) * ((len(x_nom) - 1)) ** 0.5)) ** 0.5\n",
    "        print(f'Pirson coeff = {pirson_coeff}\\n')\n",
    "        print(f'Kramer coeff = {kramer_coeff}\\n')\n",
    "        print(f'Chuprov coeff = {chuprov_coeff}\\n')\n",
    "    # вычисляем p-value\n",
    "    p_value = 1 - stats.chi2.cdf(chi2_value, (len(x_nom) - 1))\n",
    "    # принимаем H0 или отвергаем\n",
    "    if p_value > alpha:\n",
    "        complete = 0\n",
    "    else:\n",
    "        complete = 1\n",
    "    return chi2_value, p_value, complete"
   ]
  },
  {
   "cell_type": "code",
   "execution_count": 18,
   "metadata": {},
   "outputs": [
    {
     "name": "stdout",
     "output_type": "stream",
     "text": [
      "Pirson coeff = 0.24919087193978878\n",
      "\n",
      "Kramer coeff = 0.2573078030352875\n",
      "\n",
      "Chuprov coeff = 0.1819440923784643\n",
      "\n"
     ]
    },
    {
     "data": {
      "text/plain": [
       "(13.241461100569259, 0.010154297009007496, 1)"
      ]
     },
     "execution_count": 18,
     "metadata": {},
     "output_type": "execute_result"
    }
   ],
   "source": [
    "# реализованный  \n",
    "    \n",
    "Pirson_test(x1, y1)"
   ]
  },
  {
   "cell_type": "code",
   "execution_count": 19,
   "metadata": {},
   "outputs": [
    {
     "data": {
      "text/plain": [
       "(13.241461100569259,\n",
       " 0.010154297009007494,\n",
       " 4,\n",
       " array([[ 4. , 30. , 42.5, 15.5,  8. ],\n",
       "        [ 4. , 30. , 42.5, 15.5,  8. ]]))"
      ]
     },
     "execution_count": 19,
     "metadata": {},
     "output_type": "execute_result"
    }
   ],
   "source": [
    "# проверка scipy\n",
    "\n",
    "from scipy.stats import chi2_contingency\n",
    "x_nom = to_nominal(x1, 5)\n",
    "y_nom = to_nominal(y1, 5)\n",
    "chi2_contingency([x_nom, y_nom])"
   ]
  },
  {
   "cell_type": "code",
   "execution_count": 20,
   "metadata": {},
   "outputs": [
    {
     "name": "stdout",
     "output_type": "stream",
     "text": [
      "Pirson coeff = 0.6819506889765271\n",
      "\n",
      "Kramer coeff = 0.9323932340258282\n",
      "\n",
      "Chuprov coeff = 0.6593015785121187\n",
      "\n"
     ]
    },
    {
     "data": {
      "text/plain": [
       "(173.87142857142857, 0.0, 1)"
      ]
     },
     "execution_count": 20,
     "metadata": {},
     "output_type": "execute_result"
    }
   ],
   "source": [
    "# реализованный  \n",
    "\n",
    "Pirson_test(x2, y2)"
   ]
  },
  {
   "cell_type": "code",
   "execution_count": 21,
   "metadata": {},
   "outputs": [
    {
     "data": {
      "text/plain": [
       "(173.87142857142857,\n",
       " 1.5433495549008284e-36,\n",
       " 4,\n",
       " array([[52.5, 15. , 19. ,  9.5,  4. ],\n",
       "        [52.5, 15. , 19. ,  9.5,  4. ]]))"
      ]
     },
     "execution_count": 21,
     "metadata": {},
     "output_type": "execute_result"
    }
   ],
   "source": [
    "# проверка scipy\n",
    "\n",
    "from scipy.stats import chi2_contingency\n",
    "x_nom = to_nominal(x2, 5)\n",
    "y_nom = to_nominal(y2, 5)\n",
    "chi2_contingency([x_nom, y_nom])"
   ]
  },
  {
   "cell_type": "code",
   "execution_count": 22,
   "metadata": {},
   "outputs": [
    {
     "name": "stdout",
     "output_type": "stream",
     "text": [
      "Pirson coeff = 0.5000044465941806\n",
      "\n",
      "Kramer coeff = 0.5773571151996598\n",
      "\n",
      "Chuprov coeff = 0.40825313132398217\n",
      "\n"
     ]
    },
    {
     "data": {
      "text/plain": [
       "(66.66824769433465, 1.1457501614131615e-13, 1)"
      ]
     },
     "execution_count": 22,
     "metadata": {},
     "output_type": "execute_result"
    }
   ],
   "source": [
    "# реализованный \n",
    "\n",
    "Pirson_test(x3, y3)"
   ]
  },
  {
   "cell_type": "code",
   "execution_count": 23,
   "metadata": {},
   "outputs": [
    {
     "data": {
      "text/plain": [
       "(66.66824769433465,\n",
       " 1.1452490058567674e-13,\n",
       " 4,\n",
       " array([[44. , 23. , 23. ,  7.5,  2.5],\n",
       "        [44. , 23. , 23. ,  7.5,  2.5]]))"
      ]
     },
     "execution_count": 23,
     "metadata": {},
     "output_type": "execute_result"
    }
   ],
   "source": [
    "# проверка scipy\n",
    "\n",
    "from scipy.stats import chi2_contingency\n",
    "x_nom = to_nominal(x3, 5)\n",
    "y_nom = to_nominal(y3, 5)\n",
    "chi2_contingency([x_nom, y_nom])"
   ]
  },
  {
   "cell_type": "markdown",
   "metadata": {},
   "source": [
    "# Тест"
   ]
  },
  {
   "cell_type": "markdown",
   "metadata": {},
   "source": [
    "## Подсчёт ошибок 2-го рода"
   ]
  },
  {
   "cell_type": "code",
   "execution_count": 24,
   "metadata": {},
   "outputs": [],
   "source": [
    "def beta_error_frequency(mu, sigma, n, num_experiments, f):\n",
    "    Corr_test_result= []\n",
    "    Spearman_test_result = []\n",
    "    Pirson_test_result = []\n",
    "    for i in range(num_experiments):\n",
    "        x, y  =  f(mu, sigma, n)\n",
    "        Corr_test_result.append(Sample_corr_test(x, y)[3])\n",
    "        Spearman_test_result.append(Spearman_test(x, y)[3])\n",
    "        Pirson_test_result.append(Pirson_test(x, y, coeffs = False)[2])\n",
    "    Corr_test_frequency = (len(Corr_test_result) - sum(Corr_test_result)) / len(Corr_test_result)\n",
    "    Spearman_test_frequency = (len(Spearman_test_result) - sum(Spearman_test_result)) / len(Spearman_test_result)\n",
    "    Pirson_test_frequency = (len(Pirson_test_result) - sum(Pirson_test_result)) / len(Pirson_test_result)\n",
    "    return Corr_test_frequency,  Spearman_test_frequency, Pirson_test_frequency"
   ]
  },
  {
   "cell_type": "markdown",
   "metadata": {},
   "source": [
    "## Функция отрисовки графиков"
   ]
  },
  {
   "cell_type": "code",
   "execution_count": 394,
   "metadata": {},
   "outputs": [],
   "source": [
    "def gen_gaussian_lin_mono(mu, sigma, n):\n",
    "    x = np.random.normal(mu, sigma, n)\n",
    "    z = np.random.normal(mu, sigma, n)\n",
    "    y = 0.009 * x + 0.021 * z\n",
    "    return x, y\n",
    "\n",
    "def gen_notgaussian_notlin_mono(mu, sigma, n):\n",
    "    x = np.random.normal(mu, sigma, n)\n",
    "    z = np.random.normal(mu, sigma, n)\n",
    "    y = np.exp(0.12*x) + 0.09*x + z\n",
    "    return x, y\n",
    "\n",
    "def gen_notgaussian_notlin_notmono(mu, sigma, n):\n",
    "    x = np.random.normal(mu, sigma, n)\n",
    "    z = np.random.normal(mu, sigma, n)\n",
    "    y = 0.00001 *np.sin(x)  + 0.01*np.sin(z)\n",
    "    return x, z"
   ]
  },
  {
   "cell_type": "markdown",
   "metadata": {},
   "source": [
    "## X и Y гауссовские"
   ]
  },
  {
   "cell_type": "code",
   "execution_count": 313,
   "metadata": {},
   "outputs": [],
   "source": [
    "num_experiments = 1000\n",
    "n = 100\n",
    "mu = 5\n",
    "sigma = 10\n",
    "\n",
    "Corr_test_frequency_res = []\n",
    "Spearman_test_frequency_res  = []\n",
    "Pirson_test_frequency_res  = []"
   ]
  },
  {
   "cell_type": "code",
   "execution_count": 314,
   "metadata": {},
   "outputs": [],
   "source": [
    "c, s, p = beta_error_frequency(mu, sigma, n, num_experiments, f = gen_gaussian_lin_mono)"
   ]
  },
  {
   "cell_type": "code",
   "execution_count": 315,
   "metadata": {},
   "outputs": [
    {
     "data": {
      "text/plain": [
       "(0.032, 0.051, 0.598)"
      ]
     },
     "execution_count": 315,
     "metadata": {},
     "output_type": "execute_result"
    }
   ],
   "source": [
    "c,s,p"
   ]
  },
  {
   "cell_type": "markdown",
   "metadata": {},
   "source": [
    "## X и Y не гауссовские, монотонная зависимость"
   ]
  },
  {
   "cell_type": "code",
   "execution_count": 395,
   "metadata": {},
   "outputs": [],
   "source": [
    "num_experiments = 1000\n",
    "n = 100\n",
    "mu = 5\n",
    "sigma = 10\n",
    "\n",
    "Corr_test_frequency_res = []\n",
    "Spearman_test_frequency_res  = []\n",
    "Pirson_test_frequency_res  = []"
   ]
  },
  {
   "cell_type": "code",
   "execution_count": 396,
   "metadata": {},
   "outputs": [],
   "source": [
    "c, s, p = beta_error_frequency(mu, sigma, n, num_experiments, f = gen_notgaussian_notlin_mono)"
   ]
  },
  {
   "cell_type": "code",
   "execution_count": 397,
   "metadata": {},
   "outputs": [
    {
     "data": {
      "text/plain": [
       "(0.027, 0.069, 0.286)"
      ]
     },
     "execution_count": 397,
     "metadata": {},
     "output_type": "execute_result"
    }
   ],
   "source": [
    "c,s,p"
   ]
  },
  {
   "cell_type": "markdown",
   "metadata": {},
   "source": [
    "## X и Y не гауссовские, немонотонная зависимость"
   ]
  },
  {
   "cell_type": "code",
   "execution_count": 387,
   "metadata": {},
   "outputs": [],
   "source": [
    "num_experiments = 1000\n",
    "n = 100\n",
    "mu = 5\n",
    "sigma = 10\n",
    "\n",
    "Corr_test_frequency_res = []\n",
    "Spearman_test_frequency_res  = []\n",
    "Pirson_test_frequency_res  = []"
   ]
  },
  {
   "cell_type": "code",
   "execution_count": 388,
   "metadata": {},
   "outputs": [],
   "source": [
    "c, s, p = beta_error_frequency(mu, sigma, n, num_experiments, f = gen_notgaussian_notlin_notmono)"
   ]
  },
  {
   "cell_type": "code",
   "execution_count": 389,
   "metadata": {},
   "outputs": [
    {
     "data": {
      "text/plain": [
       "(0.955, 0.945, 0.59)"
      ]
     },
     "execution_count": 389,
     "metadata": {},
     "output_type": "execute_result"
    }
   ],
   "source": [
    "c,s,p"
   ]
  }
 ],
 "metadata": {
  "kernelspec": {
   "display_name": "Python 3",
   "language": "python",
   "name": "python3"
  },
  "language_info": {
   "codemirror_mode": {
    "name": "ipython",
    "version": 3
   },
   "file_extension": ".py",
   "mimetype": "text/x-python",
   "name": "python",
   "nbconvert_exporter": "python",
   "pygments_lexer": "ipython3",
   "version": "3.7.7"
  },
  "toc": {
   "base_numbering": 1,
   "nav_menu": {},
   "number_sections": true,
   "sideBar": true,
   "skip_h1_title": false,
   "title_cell": "Table of Contents",
   "title_sidebar": "Contents",
   "toc_cell": false,
   "toc_position": {
    "height": "calc(100% - 180px)",
    "left": "10px",
    "top": "150px",
    "width": "349.091px"
   },
   "toc_section_display": true,
   "toc_window_display": true
  }
 },
 "nbformat": 4,
 "nbformat_minor": 4
}
